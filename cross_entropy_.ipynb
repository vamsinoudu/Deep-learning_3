{
  "nbformat": 4,
  "nbformat_minor": 0,
  "metadata": {
    "colab": {
      "provenance": [],
      "collapsed_sections": []
    },
    "kernelspec": {
      "name": "python3",
      "display_name": "Python 3"
    },
    "language_info": {
      "name": "python"
    }
  },
  "cells": [
    {
      "cell_type": "code",
      "execution_count": 1,
      "metadata": {
        "colab": {
          "base_uri": "https://localhost:8080/"
        },
        "id": "qZMnRmh7Ib7U",
        "outputId": "901e1849-b761-4b1e-de22-896f62c0bfd0"
      },
      "outputs": [
        {
          "output_type": "execute_result",
          "data": {
            "text/plain": [
              "array([[ 3.15,  5.3 , -2.1 ]])"
            ]
          },
          "metadata": {},
          "execution_count": 1
        }
      ],
      "source": [
        "import numpy as np\n",
        "def softmax(x):\n",
        "  exp_x = np.exp(x - np.max(x,axis=1,keepdims=True))\n",
        "  return exp_x/np.sum(exp_x,axis=1,keepdims=True)\n",
        "n = np.array([3.15,5.3,-2.1]).reshape(1,3)\n",
        "n\n"
      ]
    },
    {
      "cell_type": "code",
      "source": [
        "\n",
        "type(n)\n"
      ],
      "metadata": {
        "colab": {
          "base_uri": "https://localhost:8080/"
        },
        "id": "hdkTtxlZIqGt",
        "outputId": "1933c578-3916-476a-d913-f8448f7c1830"
      },
      "execution_count": 4,
      "outputs": [
        {
          "output_type": "execute_result",
          "data": {
            "text/plain": [
              "numpy.ndarray"
            ]
          },
          "metadata": {},
          "execution_count": 4
        }
      ]
    },
    {
      "cell_type": "code",
      "source": [
        "m = softmax(n)\n",
        "m\n"
      ],
      "metadata": {
        "colab": {
          "base_uri": "https://localhost:8080/"
        },
        "id": "loA1B-OqIycc",
        "outputId": "4aa93bef-4347-43d4-fa80-8639aa8c8db6"
      },
      "execution_count": 5,
      "outputs": [
        {
          "output_type": "execute_result",
          "data": {
            "text/plain": [
              "array([[1.04274135e-01, 8.95178684e-01, 5.47180443e-04]])"
            ]
          },
          "metadata": {},
          "execution_count": 5
        }
      ]
    },
    {
      "cell_type": "code",
      "source": [
        "class CrossEntropy:\n",
        "  def forward(self,X,y): #Feed Forward NN or Backpropagation\n",
        "    y_idx = y.argmax()\n",
        "    self.p = softmax(X)\n",
        "    cross_entropy = -np.log(self.p[y_idx])\n",
        "    loss = cross_entropy\n",
        "    return loss\n",
        "  def backward(self,X,y):\n",
        "    y_idx = y.argmax()\n",
        "    grad = softmax(X)\n",
        "    grad[y_idx] = grad[y_idx]-1\n",
        "    return grad\n"
      ],
      "metadata": {
        "id": "y9vh7YkAI5jj"
      },
      "execution_count": 6,
      "outputs": []
    },
    {
      "cell_type": "code",
      "source": [
        "n1 = np.array([3.15,5.3,-2.1]).reshape(1,3)\n",
        "n1\n"
      ],
      "metadata": {
        "colab": {
          "base_uri": "https://localhost:8080/"
        },
        "id": "gyeBQngnJCag",
        "outputId": "dddd7751-dde3-47c0-b3f6-f28757aa6d50"
      },
      "execution_count": 7,
      "outputs": [
        {
          "output_type": "execute_result",
          "data": {
            "text/plain": [
              "array([[ 3.15,  5.3 , -2.1 ]])"
            ]
          },
          "metadata": {},
          "execution_count": 7
        }
      ]
    },
    {
      "cell_type": "code",
      "source": [
        "n2 = np.array([1,0,0]).reshape(1,3)\n",
        "n2\n"
      ],
      "metadata": {
        "colab": {
          "base_uri": "https://localhost:8080/"
        },
        "id": "i_KaLyXHJNOk",
        "outputId": "e84c69eb-18f1-4ec8-c197-4e246ced936e"
      },
      "execution_count": 8,
      "outputs": [
        {
          "output_type": "execute_result",
          "data": {
            "text/plain": [
              "array([[1, 0, 0]])"
            ]
          },
          "metadata": {},
          "execution_count": 8
        }
      ]
    },
    {
      "cell_type": "code",
      "source": [
        "#Object of the class\n",
        "ce = CrossEntropy()\n",
        "ce.forward(n1,n2)\n"
      ],
      "metadata": {
        "colab": {
          "base_uri": "https://localhost:8080/"
        },
        "id": "S6rUxbULJRVX",
        "outputId": "4c143529-8abd-4659-fa0f-dcfe26c74efb"
      },
      "execution_count": 9,
      "outputs": [
        {
          "output_type": "execute_result",
          "data": {
            "text/plain": [
              "array([2.26073193, 0.11073193, 7.51073193])"
            ]
          },
          "metadata": {},
          "execution_count": 9
        }
      ]
    },
    {
      "cell_type": "code",
      "source": [
        "ce.backward(n1,n2)"
      ],
      "metadata": {
        "colab": {
          "base_uri": "https://localhost:8080/"
        },
        "id": "9snpHxNkJbHO",
        "outputId": "8acc9ab7-f34d-43f1-fb89-08eb79580847"
      },
      "execution_count": 10,
      "outputs": [
        {
          "output_type": "execute_result",
          "data": {
            "text/plain": [
              "array([[-0.89572586, -0.10482132, -0.99945282]])"
            ]
          },
          "metadata": {},
          "execution_count": 10
        }
      ]
    },
    {
      "cell_type": "code",
      "source": [],
      "metadata": {
        "id": "TyPNFk7DJdn9"
      },
      "execution_count": null,
      "outputs": []
    }
  ]
}